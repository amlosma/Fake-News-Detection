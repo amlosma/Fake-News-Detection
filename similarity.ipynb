{
  "nbformat": 4,
  "nbformat_minor": 0,
  "metadata": {
    "colab": {
      "name": "similarity.ipynb",
      "provenance": [],
      "include_colab_link": true
    },
    "kernelspec": {
      "name": "python3",
      "display_name": "Python 3"
    }
  },
  "cells": [
    {
      "cell_type": "markdown",
      "metadata": {
        "id": "view-in-github",
        "colab_type": "text"
      },
      "source": [
        "<a href=\"https://colab.research.google.com/github/smara97/FakeNews/blob/master/similarity.ipynb\" target=\"_parent\"><img src=\"https://colab.research.google.com/assets/colab-badge.svg\" alt=\"Open In Colab\"/></a>"
      ]
    },
    {
      "cell_type": "code",
      "metadata": {
        "id": "PvV_AEG40cqS",
        "colab_type": "code",
        "colab": {
          "base_uri": "https://localhost:8080/",
          "height": 102
        },
        "outputId": "c263d6b9-bb16-4d78-af1d-d6c16a297aba"
      },
      "source": [
        "import pandas as pd\n",
        "import numpy as np\n",
        "import torch\n",
        "import torch.nn as nn\n",
        "from google.colab import files,drive\n",
        "import collections\n",
        "import nltk\n",
        "from nltk.corpus import stopwords\n",
        "from nltk import wordpunct_tokenize\n",
        "from nltk.tokenize import RegexpTokenizer\n",
        "from nltk.stem.porter import PorterStemmer\n",
        "from nltk.stem.wordnet import WordNetLemmatizer\n",
        "from string import punctuation\n",
        "from gensim.models import Word2Vec\n",
        "import re\n",
        "import string\n",
        "nltk.download('stopwords')\n",
        "nltk.download('wordnet')"
      ],
      "execution_count": 2,
      "outputs": [
        {
          "output_type": "stream",
          "text": [
            "[nltk_data] Downloading package stopwords to /root/nltk_data...\n",
            "[nltk_data]   Package stopwords is already up-to-date!\n",
            "[nltk_data] Downloading package wordnet to /root/nltk_data...\n",
            "[nltk_data]   Package wordnet is already up-to-date!\n"
          ],
          "name": "stdout"
        },
        {
          "output_type": "execute_result",
          "data": {
            "text/plain": [
              "True"
            ]
          },
          "metadata": {
            "tags": []
          },
          "execution_count": 2
        }
      ]
    },
    {
      "cell_type": "code",
      "metadata": {
        "id": "qVrEqEiK1N3S",
        "colab_type": "code",
        "colab": {}
      },
      "source": [
        "def clean(text):\n",
        "  text=text.lower()\n",
        "  stp=set(stopwords.words(\"english\"))\n",
        "  placesp = re.compile('[/(){}\\[\\]\\|@,;]')\n",
        "  removech= re.compile('[^0-9a-z #+_]')\n",
        "  st=WordNetLemmatizer()\n",
        "  text=re.sub(placesp,' ',text)\n",
        "  text=re.sub(removech,' ',text)\n",
        "  text=text.split()\n",
        "  text=[w for w in text if not w in stp]\n",
        "  text=[st.lemmatize(w) for w in text]\n",
        "  text=\" \".join(text)\n",
        "  text = text.translate(str.maketrans(\"\", \"\", string.punctuation))\n",
        "  return text"
      ],
      "execution_count": 0,
      "outputs": []
    },
    {
      "cell_type": "code",
      "metadata": {
        "id": "Gvzkheq_0r49",
        "colab_type": "code",
        "colab": {
          "base_uri": "https://localhost:8080/",
          "height": 122
        },
        "outputId": "9bae674b-cae0-492e-a33b-e763d5a5d417"
      },
      "source": [
        "from google.colab import drive\n",
        "drive.mount('/content/drive')"
      ],
      "execution_count": 3,
      "outputs": [
        {
          "output_type": "stream",
          "text": [
            "Go to this URL in a browser: https://accounts.google.com/o/oauth2/auth?client_id=947318989803-6bn6qk8qdgf4n4g3pfee6491hc0brc4i.apps.googleusercontent.com&redirect_uri=urn%3aietf%3awg%3aoauth%3a2.0%3aoob&response_type=code&scope=email%20https%3a%2f%2fwww.googleapis.com%2fauth%2fdocs.test%20https%3a%2f%2fwww.googleapis.com%2fauth%2fdrive%20https%3a%2f%2fwww.googleapis.com%2fauth%2fdrive.photos.readonly%20https%3a%2f%2fwww.googleapis.com%2fauth%2fpeopleapi.readonly\n",
            "\n",
            "Enter your authorization code:\n",
            "··········\n",
            "Mounted at /content/drive\n"
          ],
          "name": "stdout"
        }
      ]
    },
    {
      "cell_type": "code",
      "metadata": {
        "id": "vfvYAHfi0yes",
        "colab_type": "code",
        "colab": {}
      },
      "source": [
        "lines=[]\n",
        "indexword=[]\n",
        "wordindex={}\n",
        "wordembeddings=[]\n",
        "with open(r\"/content/drive/My Drive/Fake news competitive/glove.6B.100d.txt\") as f:\n",
        "  lines=f.read()\n",
        "  lines=lines.split('\\n')\n",
        "  for i in range(len(lines)):\n",
        "    sent=lines[i].split(' ')\n",
        "    word=sent[0]\n",
        "    numbers=np.array(sent[1:],dtype=np.float32)\n",
        "    indexword.append(word)\n",
        "    wordindex[word]=len(indexword)-1\n",
        "    wordembeddings.append(numbers)"
      ],
      "execution_count": 0,
      "outputs": []
    },
    {
      "cell_type": "code",
      "metadata": {
        "id": "kQyefcQU1aGS",
        "colab_type": "code",
        "colab": {}
      },
      "source": [
        "def transfer(text,indexword,wordembeddings,wordindex):\n",
        "  ret=[]\n",
        "  for w in text:\n",
        "    ret.append(wordembeddings[wordindex[w]])\n",
        "  return ret"
      ],
      "execution_count": 0,
      "outputs": []
    },
    {
      "cell_type": "code",
      "metadata": {
        "id": "nYmefy0b3PXV",
        "colab_type": "code",
        "colab": {}
      },
      "source": [
        "def calc(sent1,sent2):\n",
        "  doc1=sent1[0]\n",
        "  doc2=sent2[0]\n",
        "  for i in range(1,len(sent1)):\n",
        "    doc1+=sent1[i]\n",
        "  for i in range(1,len(sent2)):\n",
        "    doc2+=sent2[i]\n",
        "  return (np.dot(doc1,doc2))/(np.sqrt(sum(doc2**2))*np.sqrt(sum(doc1**2)))\n"
      ],
      "execution_count": 0,
      "outputs": []
    },
    {
      "cell_type": "code",
      "metadata": {
        "id": "zwf6lJB31Ijq",
        "colab_type": "code",
        "colab": {
          "base_uri": "https://localhost:8080/",
          "height": 51
        },
        "outputId": "aca3a8fa-5260-4dd2-ff8b-7e6eb9f1d2d1"
      },
      "source": [
        "#First read input then clean it finnaly calc the similarity between two sentences\n",
        "\n",
        "sent1=input()\n",
        "sent2=input()\n",
        "\n",
        "sent1=clean(sent1)\n",
        "sent2=clean(sent2)\n",
        "\n",
        "sent1=transfer(sent1.split(),indexword,wordembeddings,wordindex)\n",
        "sent2=transfer(sent2.split(),indexword,wordembeddings,wordindex)\n",
        "\n",
        "print(calc(sent1,sent2))\n"
      ],
      "execution_count": 23,
      "outputs": [
        {
          "output_type": "stream",
          "text": [
            "hi\n",
            "bay\n"
          ],
          "name": "stdout"
        }
      ]
    },
    {
      "cell_type": "code",
      "metadata": {
        "id": "tB2863ov3ghb",
        "colab_type": "code",
        "colab": {
          "base_uri": "https://localhost:8080/",
          "height": 34
        },
        "outputId": "438fee13-5347-4b7f-dad0-1167bc473052"
      },
      "source": [
        ""
      ],
      "execution_count": 24,
      "outputs": [
        {
          "output_type": "stream",
          "text": [
            "0.08119206851350486\n"
          ],
          "name": "stdout"
        }
      ]
    },
    {
      "cell_type": "code",
      "metadata": {
        "id": "dX6D3Ow43KVR",
        "colab_type": "code",
        "colab": {}
      },
      "source": [
        "calc(sent1,sent2)"
      ],
      "execution_count": 0,
      "outputs": []
    }
  ]
}