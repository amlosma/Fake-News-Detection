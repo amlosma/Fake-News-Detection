{
  "nbformat": 4,
  "nbformat_minor": 0,
  "metadata": {
    "colab": {
      "name": "GP-mydata.ipynb",
      "provenance": [],
      "include_colab_link": true
    },
    "kernelspec": {
      "name": "python3",
      "display_name": "Python 3"
    },
    "accelerator": "GPU"
  },
  "cells": [
    {
      "cell_type": "markdown",
      "metadata": {
        "id": "view-in-github",
        "colab_type": "text"
      },
      "source": [
        "<a href=\"https://colab.research.google.com/github/smara97/FakeNews/blob/master/GP_mydata.ipynb\" target=\"_parent\"><img src=\"https://colab.research.google.com/assets/colab-badge.svg\" alt=\"Open In Colab\"/></a>"
      ]
    },
    {
      "cell_type": "code",
      "metadata": {
        "id": "6kNcwKfzndmu",
        "colab_type": "code",
        "colab": {
          "base_uri": "https://localhost:8080/",
          "height": 102
        },
        "outputId": "e4eb6b1d-2254-4048-e01e-922375659702"
      },
      "source": [
        "import pandas as pd\n",
        "import numpy as np\n",
        "import torch\n",
        "import torch.nn as nn\n",
        "from google.colab import files,drive\n",
        "import collections\n",
        "import nltk\n",
        "from nltk.corpus import stopwords\n",
        "from nltk import wordpunct_tokenize\n",
        "from nltk.tokenize import RegexpTokenizer\n",
        "from nltk.stem.porter import PorterStemmer\n",
        "from nltk.stem.wordnet import WordNetLemmatizer\n",
        "from string import punctuation\n",
        "nltk.download('stopwords')\n",
        "nltk.download('wordnet')"
      ],
      "execution_count": 57,
      "outputs": [
        {
          "output_type": "stream",
          "text": [
            "[nltk_data] Downloading package stopwords to /root/nltk_data...\n",
            "[nltk_data]   Package stopwords is already up-to-date!\n",
            "[nltk_data] Downloading package wordnet to /root/nltk_data...\n",
            "[nltk_data]   Unzipping corpora/wordnet.zip.\n"
          ],
          "name": "stdout"
        },
        {
          "output_type": "execute_result",
          "data": {
            "text/plain": [
              "True"
            ]
          },
          "metadata": {
            "tags": []
          },
          "execution_count": 57
        }
      ]
    },
    {
      "cell_type": "code",
      "metadata": {
        "id": "9mqe7bieoFhE",
        "colab_type": "code",
        "colab": {
          "base_uri": "https://localhost:8080/",
          "height": 34
        },
        "outputId": "3cddc4ab-bffb-45dc-9048-eecd3a75ac60"
      },
      "source": [
        "from google.colab import drive\n",
        "drive.mount('/content/drive')"
      ],
      "execution_count": 5,
      "outputs": [
        {
          "output_type": "stream",
          "text": [
            "Drive already mounted at /content/drive; to attempt to forcibly remount, call drive.mount(\"/content/drive\", force_remount=True).\n"
          ],
          "name": "stdout"
        }
      ]
    },
    {
      "cell_type": "code",
      "metadata": {
        "id": "kmRwO-FHvbRp",
        "colab_type": "code",
        "colab": {}
      },
      "source": [
        "def calculate_languages_ratios(text):\n",
        "   \n",
        "    languages_ratios = {}\n",
        "    tokens = wordpunct_tokenize(text)\n",
        "    words = [word.lower() for word in tokens]\n",
        "\n",
        "    for language in stopwords.fileids():\n",
        "        stopwords_set = set(stopwords.words(language))\n",
        "        words_set = set(words)\n",
        "        common_elements = words_set.intersection(stopwords_set)\n",
        "\n",
        "        languages_ratios[language] = len(common_elements) \n",
        "\n",
        "    return languages_ratios"
      ],
      "execution_count": 0,
      "outputs": []
    },
    {
      "cell_type": "code",
      "metadata": {
        "id": "jhHkj8zQvW6F",
        "colab_type": "code",
        "colab": {}
      },
      "source": [
        "def detect_language(text):\n",
        "    ratios = calculate_languages_ratios(text)\n",
        "    most_rated_language = max(ratios, key=ratios.get)\n",
        "    return most_rated_language"
      ],
      "execution_count": 0,
      "outputs": []
    },
    {
      "cell_type": "code",
      "metadata": {
        "id": "BSMFS4f98KQt",
        "colab_type": "code",
        "colab": {}
      },
      "source": [
        "def tokenbyreg(text,pattern):\n",
        "  tokenizer = RegexpTokenizer(pattern)\n",
        "  return tokenizer.tokenize(text)"
      ],
      "execution_count": 0,
      "outputs": []
    },
    {
      "cell_type": "code",
      "metadata": {
        "id": "AW39KqXNB8Sv",
        "colab_type": "code",
        "colab": {}
      },
      "source": [
        "def removestop(text):\n",
        "  stopwords_set = set(stopwords.words(\"english\"))\n",
        "  texs=[]\n",
        "  for i in range(len(text)):\n",
        "    word=text[i].lower()\n",
        "    if word not in stopwords_set and word not in punctuation:\n",
        "      texs.append(word)\n",
        "  return texs"
      ],
      "execution_count": 0,
      "outputs": []
    },
    {
      "cell_type": "code",
      "metadata": {
        "id": "NoqUL0-wK7eJ",
        "colab_type": "code",
        "colab": {}
      },
      "source": [
        "def stemtext(text):\n",
        "  ps = PorterStemmer()\n",
        "  stemmed_words=[]\n",
        "  for w in text:\n",
        "    stemmed_words.append(ps.stem(w))\n",
        "  return stemmed_words"
      ],
      "execution_count": 0,
      "outputs": []
    },
    {
      "cell_type": "code",
      "metadata": {
        "id": "Fi4Vv54NLTJu",
        "colab_type": "code",
        "colab": {}
      },
      "source": [
        "def lemtext(text):\n",
        "  lem = WordNetLemmatizer()\n",
        "  lemm_words=[]\n",
        "  for w in text:\n",
        "    lemm_words.append(lem.lemmatize(w))\n",
        "  return lemm_words"
      ],
      "execution_count": 0,
      "outputs": []
    },
    {
      "cell_type": "code",
      "metadata": {
        "id": "A1SMenwXoGrp",
        "colab_type": "code",
        "colab": {
          "base_uri": "https://localhost:8080/",
          "height": 204
        },
        "outputId": "0f49df01-e55f-45d6-9e27-18c058b84cf9"
      },
      "source": [
        "alldata=pd.read_csv(\"/content/drive/My Drive/Fake news competitive/finalstraingv1.csv\")\n",
        "alldata=alldata.dropna()\n",
        "alldata=alldata.drop([alldata.columns[0],alldata.columns[4]],axis=1)\n",
        "alldata.head()"
      ],
      "execution_count": 10,
      "outputs": [
        {
          "output_type": "execute_result",
          "data": {
            "text/html": [
              "<div>\n",
              "<style scoped>\n",
              "    .dataframe tbody tr th:only-of-type {\n",
              "        vertical-align: middle;\n",
              "    }\n",
              "\n",
              "    .dataframe tbody tr th {\n",
              "        vertical-align: top;\n",
              "    }\n",
              "\n",
              "    .dataframe thead th {\n",
              "        text-align: right;\n",
              "    }\n",
              "</style>\n",
              "<table border=\"1\" class=\"dataframe\">\n",
              "  <thead>\n",
              "    <tr style=\"text-align: right;\">\n",
              "      <th></th>\n",
              "      <th>title</th>\n",
              "      <th>text</th>\n",
              "      <th>author</th>\n",
              "      <th>label</th>\n",
              "    </tr>\n",
              "  </thead>\n",
              "  <tbody>\n",
              "    <tr>\n",
              "      <th>0</th>\n",
              "      <td>WATCH: Anti-LGBT Attack At Equality House – SH...</td>\n",
              "      <td>WATCH: Anti-LGBT Attack At Equality House – SH...</td>\n",
              "      <td>Jordan Baranowski</td>\n",
              "      <td>1</td>\n",
              "    </tr>\n",
              "    <tr>\n",
              "      <th>1</th>\n",
              "      <td>Politico Tries to Destroy Trump, But It Backfi...</td>\n",
              "      <td>You are here: Home / US / Politico Tries to De...</td>\n",
              "      <td>Regan Pifer</td>\n",
              "      <td>1</td>\n",
              "    </tr>\n",
              "    <tr>\n",
              "      <th>2</th>\n",
              "      <td>an interview on ABC's \"This Week\"</td>\n",
              "      <td>Independent voters have a ten-point margin in ...</td>\n",
              "      <td>bob-mcdonnell</td>\n",
              "      <td>0</td>\n",
              "    </tr>\n",
              "    <tr>\n",
              "      <th>3</th>\n",
              "      <td>Trump warning: the start of World War III and ...</td>\n",
              "      <td>Chaosistan , Phenomenon of Terrorism by Gulam ...</td>\n",
              "      <td>Editorial</td>\n",
              "      <td>1</td>\n",
              "    </tr>\n",
              "    <tr>\n",
              "      <th>4</th>\n",
              "      <td>Obama’s Support of Erdogan Is a Stark Reminder...</td>\n",
              "      <td>WASHINGTON  —   It’s hard to remember today th...</td>\n",
              "      <td>Mark Landler</td>\n",
              "      <td>0</td>\n",
              "    </tr>\n",
              "  </tbody>\n",
              "</table>\n",
              "</div>"
            ],
            "text/plain": [
              "                                               title  ... label\n",
              "0  WATCH: Anti-LGBT Attack At Equality House – SH...  ...     1\n",
              "1  Politico Tries to Destroy Trump, But It Backfi...  ...     1\n",
              "2                  an interview on ABC's \"This Week\"  ...     0\n",
              "3  Trump warning: the start of World War III and ...  ...     1\n",
              "4  Obama’s Support of Erdogan Is a Stark Reminder...  ...     0\n",
              "\n",
              "[5 rows x 4 columns]"
            ]
          },
          "metadata": {
            "tags": []
          },
          "execution_count": 10
        }
      ]
    },
    {
      "cell_type": "code",
      "metadata": {
        "id": "NAFPK3a9oYSb",
        "colab_type": "code",
        "colab": {}
      },
      "source": [
        "authors=alldata.author.values"
      ],
      "execution_count": 0,
      "outputs": []
    },
    {
      "cell_type": "code",
      "metadata": {
        "id": "cXdzvZF-py25",
        "colab_type": "code",
        "colab": {}
      },
      "source": [
        "indr,indn,inds,indt=[],[],[],[]\n",
        "for i in range(alldata.shape[0]):\n",
        "    try:\n",
        "        st= alldata.loc[i,'author']\n",
        "        op=\"\"\n",
        "        for w in st.split():\n",
        "            if w!='noreply@blogger.com' and w!='(noreply@blogger.com)':\n",
        "                op+=w+' '\n",
        "            else:\n",
        "                indn.append(i)\n",
        "        if len(op.split(','))>3:\n",
        "            #op=\"removed\"\n",
        "            indr.append(i)\n",
        "        alldata.loc[i,'author']=op\n",
        "\n",
        "        if detect_language(alldata.loc[i,'text'])!=\"english\" :\n",
        "          inds.append(i)\n",
        "        elif  detect_language(alldata.loc[i,'title'])!=\"english\":\n",
        "          indt.append(i)\n",
        "\n",
        "    except:\n",
        "        continue"
      ],
      "execution_count": 0,
      "outputs": []
    },
    {
      "cell_type": "code",
      "metadata": {
        "id": "2pArIK9JqaU9",
        "colab_type": "code",
        "colab": {
          "base_uri": "https://localhost:8080/",
          "height": 34
        },
        "outputId": "410cc6f0-b666-4a39-cfb2-fc439b9b312a"
      },
      "source": [
        "print(len(inds),len(indt))"
      ],
      "execution_count": 13,
      "outputs": [
        {
          "output_type": "stream",
          "text": [
            "696 7553\n"
          ],
          "name": "stdout"
        }
      ]
    },
    {
      "cell_type": "code",
      "metadata": {
        "id": "7lQEhwOt38Vr",
        "colab_type": "code",
        "colab": {}
      },
      "source": [
        "pattern = r'''(?x)\n",
        "(?:[A-Z]\\.)+(?:[A-Z])\n",
        "| \\w+(?:-\\w+)*\n",
        "| \\$?\\d+(?:\\.\\d+)?%?\n",
        "| \\.\\.\\.| [][.,;\"'?():_`-]'''"
      ],
      "execution_count": 0,
      "outputs": []
    },
    {
      "cell_type": "code",
      "metadata": {
        "id": "lcBGulAW96WR",
        "colab_type": "code",
        "colab": {
          "base_uri": "https://localhost:8080/",
          "height": 34
        },
        "outputId": "02156ebb-5eaa-4a42-d5f5-287d8b7beee7"
      },
      "source": [
        "stemtext(removestop(tokenbyreg(\"Last your chance to travle from away egypt to U.S.A ?\",pattern)))"
      ],
      "execution_count": 53,
      "outputs": [
        {
          "output_type": "execute_result",
          "data": {
            "text/plain": [
              "['last', 'chanc', 'travl', 'away', 'egypt', 'u.s.a']"
            ]
          },
          "metadata": {
            "tags": []
          },
          "execution_count": 53
        }
      ]
    },
    {
      "cell_type": "code",
      "metadata": {
        "id": "m3q0ojiWJq1w",
        "colab_type": "code",
        "colab": {
          "base_uri": "https://localhost:8080/",
          "height": 34
        },
        "outputId": "c1cb80b9-82f3-42ae-d754-5cb45f73cb22"
      },
      "source": [
        "lemtext(removestop(tokenbyreg(\"Last your chance to travle from away egypt to U.S.A ?\",pattern)))"
      ],
      "execution_count": 67,
      "outputs": [
        {
          "output_type": "execute_result",
          "data": {
            "text/plain": [
              "['last', 'chance', 'travle', 'away', 'egypt', 'u.s.a']"
            ]
          },
          "metadata": {
            "tags": []
          },
          "execution_count": 67
        }
      ]
    },
    {
      "cell_type": "code",
      "metadata": {
        "id": "MmMaQC6aLnOF",
        "colab_type": "code",
        "colab": {}
      },
      "source": [
        ""
      ],
      "execution_count": 0,
      "outputs": []
    }
  ]
}